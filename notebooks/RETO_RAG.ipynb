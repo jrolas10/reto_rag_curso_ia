{
 "cells": [
  {
   "cell_type": "markdown",
   "id": "0ea4eedc",
   "metadata": {},
   "source": [
    "## 0. Setup"
   ]
  },
  {
   "cell_type": "code",
   "execution_count": null,
   "id": "0c07e509",
   "metadata": {},
   "outputs": [],
   "source": []
  },
  {
   "cell_type": "code",
   "execution_count": null,
   "id": "9b260d32",
   "metadata": {},
   "outputs": [],
   "source": []
  },
  {
   "cell_type": "markdown",
   "id": "22e19bdb",
   "metadata": {},
   "source": [
    "## 1. Extracting files"
   ]
  },
  {
   "cell_type": "code",
   "execution_count": null,
   "id": "6c51044c",
   "metadata": {},
   "outputs": [],
   "source": []
  },
  {
   "cell_type": "markdown",
   "id": "6b83e77a",
   "metadata": {},
   "source": [
    "## 2. Text Splitting into Chunks"
   ]
  },
  {
   "cell_type": "code",
   "execution_count": null,
   "id": "a4b8f501",
   "metadata": {},
   "outputs": [],
   "source": []
  },
  {
   "cell_type": "markdown",
   "id": "8d06e27f",
   "metadata": {},
   "source": [
    "## 3. Embedding"
   ]
  },
  {
   "cell_type": "code",
   "execution_count": null,
   "id": "ec00fa4b",
   "metadata": {},
   "outputs": [],
   "source": []
  },
  {
   "cell_type": "markdown",
   "id": "72c82e20",
   "metadata": {},
   "source": [
    "## 4. Vector Stores"
   ]
  },
  {
   "cell_type": "code",
   "execution_count": null,
   "id": "a3d89880",
   "metadata": {},
   "outputs": [],
   "source": []
  },
  {
   "cell_type": "markdown",
   "id": "85da1ee7",
   "metadata": {},
   "source": [
    "## 5. Retriving from the Persistant Vector Datastore"
   ]
  },
  {
   "cell_type": "code",
   "execution_count": null,
   "id": "e9fd2322",
   "metadata": {},
   "outputs": [],
   "source": []
  },
  {
   "cell_type": "markdown",
   "id": "d4abf77e",
   "metadata": {},
   "source": [
    "## 6. Retrivers in Langchain"
   ]
  },
  {
   "cell_type": "code",
   "execution_count": null,
   "id": "568bce4f",
   "metadata": {},
   "outputs": [],
   "source": []
  }
 ],
 "metadata": {
  "kernelspec": {
   "display_name": "rag_build",
   "language": "python",
   "name": "python3"
  },
  "language_info": {
   "codemirror_mode": {
    "name": "ipython",
    "version": 3
   },
   "file_extension": ".py",
   "mimetype": "text/x-python",
   "name": "python",
   "nbconvert_exporter": "python",
   "pygments_lexer": "ipython3",
   "version": "3.12.10"
  }
 },
 "nbformat": 4,
 "nbformat_minor": 5
}
