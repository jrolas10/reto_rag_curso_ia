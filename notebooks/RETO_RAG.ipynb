{
 "cells": [
  {
   "cell_type": "markdown",
   "id": "0ea4eedc",
   "metadata": {},
   "source": [
    "## 0. Setup"
   ]
  },
  {
   "cell_type": "code",
   "execution_count": 21,
   "id": "0c07e509",
   "metadata": {},
   "outputs": [
    {
     "name": "stdout",
     "output_type": "stream",
     "text": [
      "API key cargada: Sí\n"
     ]
    }
   ],
   "source": [
    "import os\n",
    "from dotenv import load_dotenv\n",
    "\n",
    "# Cargar variables de entorno desde el archivo .env\n",
    "load_dotenv()\n",
    "\n",
    "# Verificar que la API key está disponible\n",
    "api_key = os.getenv(\"OPENAI_API_KEY\")\n",
    "print(\"API key cargada:\", \"Sí\" if api_key else \"No\")\n",
    "\n"
   ]
  },
  {
   "cell_type": "code",
   "execution_count": null,
   "id": "9b260d32",
   "metadata": {},
   "outputs": [],
   "source": []
  },
  {
   "cell_type": "markdown",
   "id": "22e19bdb",
   "metadata": {},
   "source": [
    "## 1. Extracting files"
   ]
  },
  {
   "cell_type": "code",
   "execution_count": 42,
   "id": "6c51044c",
   "metadata": {},
   "outputs": [
    {
     "name": "stdout",
     "output_type": "stream",
     "text": [
      "../data\\guiaRouter.pdf → 2 fragmentos\n",
      "../data\\recetaHotCakes.pdf → 2 fragmentos\n",
      "Total cargado en todos los documentos: 4 fragmentos\n"
     ]
    }
   ],
   "source": [
    "import os\n",
    "from langchain_community.document_loaders import PyPDFLoader\n",
    "\n",
    "# Intentar ambas rutas posibles\n",
    "base_paths = [\"data\", \"../data\"]\n",
    "\n",
    "pdf_files = [\"guiaRouter.pdf\", \"recetaHotCakes.pdf\"]\n",
    "documents = []\n",
    "\n",
    "for base in base_paths:\n",
    "    if os.path.exists(base):\n",
    "        for pdf in pdf_files:\n",
    "            path = os.path.join(base, pdf)\n",
    "            if os.path.exists(path):\n",
    "                loader = PyPDFLoader(path)\n",
    "                docs = loader.load()\n",
    "                documents.extend(docs)\n",
    "                print(f\"{path} → {len(docs)} fragmentos\")\n",
    "            else:\n",
    "                print(f\"⚠️ No se encontró el archivo: {path}\")\n",
    "        break  # si encontró la carpeta base, ya no prueba la otra\n",
    "\n",
    "print(f\"Total cargado en todos los documentos: {len(documents)} fragmentos\")\n"
   ]
  },
  {
   "cell_type": "code",
   "execution_count": null,
   "id": "94096fc5",
   "metadata": {},
   "outputs": [
    {
     "name": "stdout",
     "output_type": "stream",
     "text": [
      "../data\\guiaRouter.pdf → 2 fragmentos\n",
      "../data\\recetaHotCakes.pdf → 2 fragmentos\n",
      "Total cargado en todos los documentos: 4 fragmentos\n"
     ]
    }
   ],
   "source": [
    "import os\n",
    "from langchain_community.document_loaders import PyPDFLoader\n",
    "\n",
    "# Intentar ambas rutas posibles\n",
    "base_paths = [\"data\", \"../data\"]\n",
    "\n",
    "pdf_files = [\"guiaRouter.pdf\", \"recetaHotCakes.pdf\"]\n",
    "documents = []\n",
    "\n",
    "for base in base_paths:\n",
    "    if os.path.exists(base):\n",
    "        for pdf in pdf_files:\n",
    "            path = os.path.join(base, pdf)\n",
    "            if os.path.exists(path):\n",
    "                loader = PyPDFLoader(path)\n",
    "                docs = loader.load()\n",
    "                documents.extend(docs)\n",
    "                print(f\"{path} → {len(docs)} fragmentos\")\n",
    "            else:\n",
    "                print(f\"⚠️ No se encontró el archivo: {path}\")\n",
    "        break  # si encontró la carpeta base, ya no prueba la otra\n",
    "\n",
    "print(f\"Total cargado en todos los documentos: {len(documents)} fragmentos\")\n"
   ]
  },
  {
   "cell_type": "markdown",
   "id": "6b83e77a",
   "metadata": {},
   "source": [
    "## 2. Text Splitting into Chunks"
   ]
  },
  {
   "cell_type": "code",
   "execution_count": 30,
   "id": "a4b8f501",
   "metadata": {},
   "outputs": [
    {
     "name": "stdout",
     "output_type": "stream",
     "text": [
      "Fragmentos después del chunking: 56\n",
      "Ejemplo de fragmento:\n",
      "\n",
      "Quick Setup - Wireless\n",
      "Conectar el Hardware\n",
      "Conecte un cable Ethernet del\n",
      "módem al puerto WAN de \n",
      "su router.\n",
      "Si su conexión a Internet es a través de un cable Ethernet de pared \n",
      "en lugar de a través de un DSL/ Cable/ Módem Satelital, conecte el \n",
      "cable Ehernet directamente al puerto WAN del router, l\n"
     ]
    }
   ],
   "source": [
    "from langchain_text_splitters import RecursiveCharacterTextSplitter\n",
    "\n",
    "# Configurar el splitter\n",
    "text_splitter = RecursiveCharacterTextSplitter(\n",
    "    chunk_size=500,      # tamaño adecuado\n",
    "    chunk_overlap=50,    # solapamiento adecuado\n",
    "    separators=[\"\\n\\n\", \"\\n\", \" \", \"\"]\n",
    ")\n",
    "\n",
    "# Aplicar el splitter a los documentos cargados\n",
    "docs_chunked = text_splitter.split_documents(documents)\n",
    "\n",
    "print(f\"Fragmentos después del chunking: {len(docs_chunked)}\")\n",
    "print(\"Ejemplo de fragmento:\\n\")\n",
    "print(docs_chunked[0].page_content[:300])  # mostrar solo 300 caracteres\n"
   ]
  },
  {
   "cell_type": "markdown",
   "id": "8d06e27f",
   "metadata": {},
   "source": [
    "## 3. Embedding"
   ]
  },
  {
   "cell_type": "code",
   "execution_count": 31,
   "id": "ec00fa4b",
   "metadata": {},
   "outputs": [
    {
     "name": "stdout",
     "output_type": "stream",
     "text": [
      "Se generaron 56 embeddings.\n",
      "Ejemplo de embedding (primer vector, 5 números):\n",
      "[0.026735464110970497, 0.007250760216265917, -0.01332201436161995, -0.025400519371032715, -0.01750057376921177]\n"
     ]
    }
   ],
   "source": [
    "from langchain_openai import OpenAIEmbeddings\n",
    "\n",
    "# Crear embeddings con OpenAI\n",
    "embedding_model = OpenAIEmbeddings(model=\"text-embedding-3-small\")\n",
    "\n",
    "# Convertir los fragmentos a vectores\n",
    "embeddings = embedding_model.embed_documents([doc.page_content for doc in docs_chunked])\n",
    "\n",
    "print(f\"Se generaron {len(embeddings)} embeddings.\")\n",
    "print(f\"Ejemplo de embedding (primer vector, 5 números):\\n{embeddings[0][:5]}\")\n"
   ]
  },
  {
   "cell_type": "markdown",
   "id": "72c82e20",
   "metadata": {},
   "source": [
    "## 4. Vector Stores"
   ]
  },
  {
   "cell_type": "code",
   "execution_count": 32,
   "id": "a3d89880",
   "metadata": {},
   "outputs": [
    {
     "name": "stdout",
     "output_type": "stream",
     "text": [
      "Base vectorial creada y persistida en '../chroma_db'\n"
     ]
    }
   ],
   "source": [
    "from langchain_community.vectorstores import Chroma\n",
    "\n",
    "# Crear un almacén vectorial en memoria con ChromaDB\n",
    "vectorstore = Chroma.from_documents(\n",
    "    docs_chunked,\n",
    "    embedding_model,\n",
    "    persist_directory=\"../chroma_db\"  # carpeta donde se guarda la base\n",
    ")\n",
    "\n",
    "print(\"Base vectorial creada y persistida en '../chroma_db'\")\n"
   ]
  },
  {
   "cell_type": "markdown",
   "id": "85da1ee7",
   "metadata": {},
   "source": [
    "## 5. Retriving from the Persistant Vector Datastore"
   ]
  },
  {
   "cell_type": "code",
   "execution_count": 33,
   "id": "e9fd2322",
   "metadata": {},
   "outputs": [
    {
     "name": "stdout",
     "output_type": "stream",
     "text": [
      "\n",
      "Resultado 1:\n",
      "Hot Cakes\n",
      "Una vez integrados se agregan a la harina y SUAVEMENTE se mezclan juntos (no batir muy fuerte ni de\n",
      "más porque luego se activa el gluten de la harina y quedarán duros).  Si queda muy espeso se puede\n",
      "agregar leche hasta completar una taza, pero no más de eso.\n",
      "La mezcla se tiene que dejar re\n",
      "\n",
      "Resultado 2:\n",
      "Hot Cakes\n",
      "Tiempo de preparación: 10 minutos\n",
      "Tiempo de cocimiento: 20 minutos\n",
      "Tiempo total: 30 minutos\n",
      "Porciones: 10 hot cakes medianos\n",
      "Estos hot cakes son las noches de invierno en mi casa, o tal vez las tardes de verano cuando salíamos bien\n",
      "refrescados de estar en la alberca toda la tarde.  Son mi \n",
      "\n",
      "Resultado 3:\n",
      "http://www.tp-link.com/mx/support/faq y haga clic en Contactar a Soporte Técnico para asistencia.\n",
      "1.\n",
      "Configure el router usando un web browser2.\n",
      "TerminarRegresar\n",
      "¡Felicitaciones!\n",
      "Los ajustes básicos de Internet e inalámbricas están terminados, por favor haga clicBotónde terminar \n",
      "y probar las conexi\n",
      "\n",
      "Resultado 4:\n",
      "http://www.tp-link.com/mx/support/faq y haga clic en Contactar a Soporte Técnico para asistencia.\n",
      "1.\n",
      "Configure el router usando un web browser2.\n",
      "TerminarRegresar\n",
      "¡Felicitaciones!\n",
      "Los ajustes básicos de Internet e inalámbricas están terminados, por favor haga clicBotónde terminar \n",
      "y probar las conexi\n"
     ]
    }
   ],
   "source": [
    "retriever = vectorstore.as_retriever()\n",
    "\n",
    "query = \"¿Cómo se prepara la mezcla para hot cakes?\"\n",
    "results = retriever.get_relevant_documents(query)\n",
    "\n",
    "for i, doc in enumerate(results, start=1):\n",
    "    print(f\"\\nResultado {i}:\")\n",
    "    print(doc.page_content[:300])\n"
   ]
  },
  {
   "cell_type": "markdown",
   "id": "d4abf77e",
   "metadata": {},
   "source": [
    "## 6. Retrivers in Langchain"
   ]
  },
  {
   "cell_type": "code",
   "execution_count": 34,
   "id": "568bce4f",
   "metadata": {},
   "outputs": [
    {
     "name": "stdout",
     "output_type": "stream",
     "text": [
      "Respuesta generada:\n",
      " Los ingredientes necesarios para preparar hot cakes son:\n",
      "- 2 tazas de harina preparada para hot cakes.\n",
      "- 2 huevos.\n",
      "- 2 cucharadas de aceite.\n",
      "- Entre ¾ y 1 taza de leche, dependiendo de la consistencia deseada.\n",
      "\n",
      "Fuente(s):\n",
      "- {'creationdate': \"20250919054129+00'00'\", 'title': 'Hot Cakes', 'source': '../data/recetaHotCakes.pdf', 'page_label': '2', 'page': 1, 'author': 'Cassarola Mia', 'creator': 'PyPDF', 'total_pages': 2, 'producer': 'mPDF 7.0.3', 'moddate': \"20250919054129+00'00'\"}\n",
      "- {'total_pages': 2, 'author': 'Cassarola Mia', 'page': 0, 'source': '../data/recetaHotCakes.pdf', 'page_label': '1', 'moddate': \"20250919054129+00'00'\", 'creationdate': \"20250919054129+00'00'\", 'creator': 'PyPDF', 'title': 'Hot Cakes', 'producer': 'mPDF 7.0.3'}\n",
      "- {'title': '7106506448_TL-WR840N(ES)_2.0_QIG_V1', 'producer': 'Adobe PDF library 10.01', 'page_label': '2', 'source': '../data/guiaRouter.pdf', 'moddate': '2016-06-12T10:31:56+08:00', 'total_pages': 2, 'page': 1, 'creator': 'Adobe Illustrator CC (Windows)', 'creationdate': '2016-06-12T10:31:56+08:00'}\n",
      "- {'page': 1, 'source': '../data/guiaRouter.pdf', 'creationdate': '2016-06-12T10:31:56+08:00', 'page_label': '2', 'title': '7106506448_TL-WR840N(ES)_2.0_QIG_V1', 'moddate': '2016-06-12T10:31:56+08:00', 'producer': 'Adobe PDF library 10.01', 'creator': 'Adobe Illustrator CC (Windows)', 'total_pages': 2}\n",
      "Respuesta generada:\n",
      " Para reiniciar el router, sigue estos pasos:\n",
      "\n",
      "1. Mientras el router está encendido, presiona y sostén el botón WPS/RESET en el panel trasero del router por aproximadamente 8 segundos.\n",
      "2. Ingresa a la página web de Administración del Router.\n",
      "3. Ve a Herramientas del sistema > Fallas de fábrica y haz clic en Restaurar.\n",
      "4. Espera hasta que la barra de progreso esté completa.\n",
      "\n",
      "Estos pasos te permitirán reiniciar el router a la configuración de fábrica.\n",
      "\n",
      "Fuente(s):\n",
      "- {'moddate': '2016-06-12T10:31:56+08:00', 'total_pages': 2, 'title': '7106506448_TL-WR840N(ES)_2.0_QIG_V1', 'source': '../data/guiaRouter.pdf', 'page': 1, 'creator': 'Adobe Illustrator CC (Windows)', 'page_label': '2', 'creationdate': '2016-06-12T10:31:56+08:00', 'producer': 'Adobe PDF library 10.01'}\n",
      "- {'moddate': '2016-06-12T10:31:56+08:00', 'creationdate': '2016-06-12T10:31:56+08:00', 'creator': 'Adobe Illustrator CC (Windows)', 'total_pages': 2, 'source': '../data/guiaRouter.pdf', 'producer': 'Adobe PDF library 10.01', 'page_label': '2', 'title': '7106506448_TL-WR840N(ES)_2.0_QIG_V1', 'page': 1}\n",
      "- {'creationdate': '2016-06-12T10:31:56+08:00', 'moddate': '2016-06-12T10:31:56+08:00', 'title': '7106506448_TL-WR840N(ES)_2.0_QIG_V1', 'page': 1, 'source': '../data/guiaRouter.pdf', 'page_label': '2', 'total_pages': 2, 'producer': 'Adobe PDF library 10.01', 'creator': 'Adobe Illustrator CC (Windows)'}\n",
      "- {'page': 1, 'source': '../data/guiaRouter.pdf', 'total_pages': 2, 'moddate': '2016-06-12T10:31:56+08:00', 'producer': 'Adobe PDF library 10.01', 'creator': 'Adobe Illustrator CC (Windows)', 'creationdate': '2016-06-12T10:31:56+08:00', 'title': '7106506448_TL-WR840N(ES)_2.0_QIG_V1', 'page_label': '2'}\n"
     ]
    }
   ],
   "source": [
    "from langchain.chains import RetrievalQA\n",
    "from langchain_openai import ChatOpenAI\n",
    "\n",
    "# Crear el LLM (modelo de OpenAI para generar respuestas)\n",
    "llm = ChatOpenAI(model=\"gpt-3.5-turbo\", temperature=0)\n",
    "\n",
    "# Crear un chain de RAG: primero recupera info, luego genera respuesta\n",
    "qa_chain = RetrievalQA.from_chain_type(\n",
    "    llm=llm,\n",
    "    retriever=vectorstore.as_retriever(),\n",
    "    return_source_documents=True  # opcional, para ver de dónde sacó la info\n",
    ")\n",
    "\n",
    "# Ejemplo de pregunta\n",
    "query = \"¿Qué ingredientes se necesitan para preparar hot cakes?\"\n",
    "response = qa_chain.invoke({\"query\": query})\n",
    "\n",
    "print(\"Respuesta generada:\\n\", response[\"result\"])\n",
    "\n",
    "print(\"\\nFuente(s):\")\n",
    "for doc in response[\"source_documents\"]:\n",
    "    print(\"-\", doc.metadata)\n",
    "\n",
    "query = \"¿Cómo puedo reiniciar el router?\"\n",
    "response = qa_chain.invoke({\"query\": query})\n",
    "\n",
    "print(\"Respuesta generada:\\n\", response[\"result\"])\n",
    "print(\"\\nFuente(s):\")\n",
    "for doc in response[\"source_documents\"]:\n",
    "    print(\"-\", doc.metadata)\n",
    "\n"
   ]
  },
  {
   "cell_type": "code",
   "execution_count": 46,
   "id": "c45f4427",
   "metadata": {},
   "outputs": [
    {
     "name": "stdout",
     "output_type": "stream",
     "text": [
      "❓ ¿Cómo se prepara la receta de hot cakes?\n"
     ]
    },
    {
     "name": "stderr",
     "output_type": "stream",
     "text": [
      "C:\\Users\\jose.gregorio\\AppData\\Local\\Temp\\ipykernel_20672\\2270995755.py:21: LangChainDeprecationWarning: The method `Chain.run` was deprecated in langchain 0.1.0 and will be removed in 1.0. Use :meth:`~invoke` instead.\n",
      "  print(\"➡️\", qa_chain.run(q))\n"
     ]
    },
    {
     "name": "stdout",
     "output_type": "stream",
     "text": [
      "➡️ Para preparar la receta de hot cakes, sigue estos pasos:\n",
      "\n",
      "**Ingredientes:**\n",
      "- 2 tazas de harina preparada para hot cakes.\n",
      "- 2 huevos.\n",
      "- 2 cucharadas de aceite.\n",
      "- ¾ a 1 taza de leche (dependiendo de la consistencia deseada).\n",
      "\n",
      "**Procedimiento:**\n",
      "1. En un tazón hondo, coloca la harina y desbarata los posibles grumos con un tenedor. Es mejor si la cerniste o pasas por un colador.\n",
      "2. En otro recipiente, mezcla los huevos, el aceite y ¾ de taza de leche. Bate muy bien con un batidor de globo.\n",
      "3. Integra la mezcla de huevos a la harina y mezcla suavemente. Evita batir fuerte o en exceso para no activar el gluten de la harina.\n",
      "4. Si la mezcla queda muy espesa, puedes agregar leche hasta completar una taza, pero no más de eso.\n",
      "5. Deja reposar la mezcla al menos 10 minutos para que las proteínas del huevo y las partículas de harina absorban la leche.\n",
      "6. Calienta un comal con cubierta antiadherente. Una vez caliente, pasa un poco de mantequilla con una servilleta y vierte la mezcla sin mover al punto donde el líquido tocó el comal, dejando caer hasta alcanzar el diámetro deseado.\n",
      "7. Cuando se formen burbujas en la superficie y los bordes parezcan secos, voltea el hot cake con un solo movimiento firme.\n",
      "8. Cuando se dore del otro lado, retíralo del comal.\n",
      "\n",
      "**Servir:** Sirve calientes con mantequilla y miel de maple. Puedes guardar los hot cakes en el refrigerador o en el congelador, bien envueltos, para su consumo posterior.\n",
      "\n",
      "¡Disfruta tus hot cakes!\n",
      "--------------------------------------------------\n",
      "❓ ¿Qué ingredientes principales llevan los hot cakes?\n",
      "➡️ Los ingredientes principales para hacer los hot cakes son:\n",
      "\n",
      "- 2 tazas de harina preparada para hot cakes.\n",
      "- 2 huevos.\n",
      "- 2 cucharadas de aceite.\n",
      "- ¾ a 1 taza de leche (dependiendo de la consistencia deseada).\n",
      "--------------------------------------------------\n",
      "❓ Explica cómo se configura el router en palabras simples.\n",
      "➡️ Para configurar el router, sigue estos pasos simples:\n",
      "\n",
      "1. Conecta tu computadora al router usando un cable o Wi-Fi.\n",
      "2. Abre un navegador en tu computadora y escribe http://tplinkwifi.net o http://192.168.0.1 en la barra de direcciones.\n",
      "3. Cuando se abra la página, ingresa \"admin\" como nombre de usuario y \"admin\" como contraseña. Luego haz clic en \"Login\".\n",
      "4. Si no aparece la ventana de inicio de sesión, busca ayuda en las preguntas frecuentes de tu router.\n",
      "5. Una vez dentro, puedes elegir configurar las opciones inalámbricas predeterminadas o personalizarlas según tu preference. Haz clic en \"Siguiente\" para continuar.\n",
      "\n",
      "¡Eso es todo! Así puedes empezar a usar tu router.\n",
      "--------------------------------------------------\n",
      "❓ ¿Qué pasos básicos se recomiendan para instalar el router?\n",
      "➡️ Los pasos básicos recomendados para instalar el router son:\n",
      "\n",
      "1. Conectar un cable Ethernet del módem al puerto WAN del router.\n",
      "2. Si su conexión a Internet es a través de un cable Ethernet de pared, conecte el cable Ethernet directamente al puerto WAN del router.\n",
      "3. Apagar el módem.\n",
      "4. Quitar la batería de respaldo del módem (si aplica).\n",
      "5. Seguir los pasos adicionales necesarios para completar la conexión del hardware. \n",
      "\n",
      "Asegúrese de utilizar los adaptadores de corriente correspondientes para el módem y el router.\n",
      "--------------------------------------------------\n",
      "❓ Resume las instrucciones clave del manual del router.\n",
      "➡️ 1. Para resetear el router, enciéndelo y presiona y sostiene el botón WPS/RESET en el panel trasero durante unos 8 segundos.\n",
      "2. Accede a la página Web de Administración del Router.\n",
      "3. Ve a Herramientas del sistema > Fallas de fábrica y haz clic en Restaurar.\n",
      "4. Espera hasta que la barra de progreso esté completa. \n",
      "5. Si olvidas tu contraseña de la página web de administración, sigue las instrucciones en FAQ > Q3 para resetear el router y utiliza las credenciales predeterminadas.\n",
      "--------------------------------------------------\n"
     ]
    }
   ],
   "source": [
    "#FASE 4\n",
    "from langchain.chains import RetrievalQA\n",
    "from langchain_openai import ChatOpenAI\n",
    "\n",
    "# Crear el modelo y la cadena QA\n",
    "retriever = vectorstore.as_retriever()\n",
    "llm = ChatOpenAI(model=\"gpt-4o-mini\")  # o \"gpt-3.5-turbo\"\n",
    "qa_chain = RetrievalQA.from_chain_type(llm=llm, retriever=retriever)\n",
    "\n",
    "# 5 consultas de prueba\n",
    "preguntas = [\n",
    "    \"¿Cómo se prepara la receta de hot cakes?\",\n",
    "    \"¿Qué ingredientes principales llevan los hot cakes?\",\n",
    "    \"Explica cómo se configura el router en palabras simples.\",\n",
    "    \"¿Qué pasos básicos se recomiendan para instalar el router?\",\n",
    "    \"Resume las instrucciones clave del manual del router.\"\n",
    "]\n",
    "\n",
    "for q in preguntas:\n",
    "    print(\"❓\", q)\n",
    "    print(\"➡️\", qa_chain.run(q))\n",
    "    print(\"-\" * 50)\n"
   ]
  },
  {
   "cell_type": "code",
   "execution_count": null,
   "id": "20d62f57",
   "metadata": {},
   "outputs": [],
   "source": []
  }
 ],
 "metadata": {
  "kernelspec": {
   "display_name": ".venv",
   "language": "python",
   "name": "python3"
  },
  "language_info": {
   "codemirror_mode": {
    "name": "ipython",
    "version": 3
   },
   "file_extension": ".py",
   "mimetype": "text/x-python",
   "name": "python",
   "nbconvert_exporter": "python",
   "pygments_lexer": "ipython3",
   "version": "3.13.7"
  }
 },
 "nbformat": 4,
 "nbformat_minor": 5
}
