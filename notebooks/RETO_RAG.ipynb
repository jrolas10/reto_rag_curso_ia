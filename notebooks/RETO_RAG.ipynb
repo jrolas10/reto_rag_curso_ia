{
 "cells": [
  {
   "cell_type": "markdown",
   "id": "0ea4eedc",
   "metadata": {},
   "source": [
    "## 0. Setup"
   ]
  },
  {
   "cell_type": "code",
   "execution_count": null,
   "id": "0c07e509",
   "metadata": {},
   "outputs": [
    {
     "ename": "SyntaxError",
     "evalue": "invalid syntax (2981582702.py, line 10)",
     "output_type": "error",
     "traceback": [
      "  \u001b[36mCell\u001b[39m\u001b[36m \u001b[39m\u001b[32mIn[3]\u001b[39m\u001b[32m, line 10\u001b[39m\n\u001b[31m    \u001b[39m\u001b[31mpip install langchain langchain-community langchain-text-splitters chromadb openai tiktoken pypdf\u001b[39m\n        ^\n\u001b[31mSyntaxError\u001b[39m\u001b[31m:\u001b[39m invalid syntax\n"
     ]
    }
   ],
   "source": [
    "import os\n",
    "from dotenv import load_dotenv\n",
    "\n",
    "# Cargar variables de entorno desde el archivo .env\n",
    "load_dotenv()\n",
    "\n",
    "# Verificar que la API key está disponible\n",
    "api_key = os.getenv(\"OPENAI_API_KEY\")\n",
    "print(\"API key cargada:\", \"Sí\" if api_key else \"No\")\n",
    "\n"
   ]
  },
  {
   "cell_type": "markdown",
   "id": "95ef9a28",
   "metadata": {},
   "source": [
    "## 6. Retrivers in Langchain"
   ]
  },
  {
   "cell_type": "code",
   "execution_count": null,
   "id": "9b260d32",
   "metadata": {},
   "outputs": [],
   "source": []
  },
  {
   "cell_type": "markdown",
   "id": "22e19bdb",
   "metadata": {},
   "source": [
    "## 1. Extracting files"
   ]
  },
  {
   "cell_type": "code",
   "execution_count": 2,
   "id": "6c51044c",
   "metadata": {},
   "outputs": [
    {
     "ename": "ModuleNotFoundError",
     "evalue": "No module named 'langchain_community'",
     "output_type": "error",
     "traceback": [
      "\u001b[31m---------------------------------------------------------------------------\u001b[39m",
      "\u001b[31mModuleNotFoundError\u001b[39m                       Traceback (most recent call last)",
      "\u001b[36mCell\u001b[39m\u001b[36m \u001b[39m\u001b[32mIn[2]\u001b[39m\u001b[32m, line 1\u001b[39m\n\u001b[32m----> \u001b[39m\u001b[32m1\u001b[39m \u001b[38;5;28;01mfrom\u001b[39;00m\u001b[38;5;250m \u001b[39m\u001b[34;01mlangchain_community\u001b[39;00m\u001b[34;01m.\u001b[39;00m\u001b[34;01mdocument_loaders\u001b[39;00m\u001b[38;5;250m \u001b[39m\u001b[38;5;28;01mimport\u001b[39;00m PyPDFLoader\n\u001b[32m      3\u001b[39m \u001b[38;5;66;03m# Rutas a los PDF en la carpeta data\u001b[39;00m\n\u001b[32m      4\u001b[39m pdf_paths = [\u001b[33m\"\u001b[39m\u001b[33m../data/manualRouter.pdf\u001b[39m\u001b[33m\"\u001b[39m, \u001b[33m\"\u001b[39m\u001b[33m../data/recetaHotCakes.pdf\u001b[39m\u001b[33m\"\u001b[39m]\n",
      "\u001b[31mModuleNotFoundError\u001b[39m: No module named 'langchain_community'"
     ]
    }
   ],
   "source": [
    "from langchain_community.document_loaders import PyPDFLoader\n",
    "\n",
    "# Rutas a los PDF en la carpeta data\n",
    "pdf_paths = [\"../data/manualRouter.pdf\", \"../data/recetaHotCakes.pdf\"]\n",
    "\n",
    "documents = []\n",
    "\n",
    "# Cargar cada PDF y añadirlo a la lista de documentos\n",
    "for path in pdf_paths:\n",
    "    loader = PyPDFLoader(path)\n",
    "    docs = loader.load()\n",
    "    documents.extend(docs)\n",
    "\n",
    "print(f\"Se cargaron {len(documents)} fragmentos en total\")\n"
   ]
  },
  {
   "cell_type": "markdown",
   "id": "6b83e77a",
   "metadata": {},
   "source": [
    "## 2. Text Splitting into Chunks"
   ]
  },
  {
   "cell_type": "code",
   "execution_count": null,
   "id": "a4b8f501",
   "metadata": {},
   "outputs": [],
   "source": []
  },
  {
   "cell_type": "markdown",
   "id": "8d06e27f",
   "metadata": {},
   "source": [
    "## 3. Embedding"
   ]
  },
  {
   "cell_type": "code",
   "execution_count": null,
   "id": "ec00fa4b",
   "metadata": {},
   "outputs": [],
   "source": []
  },
  {
   "cell_type": "markdown",
   "id": "72c82e20",
   "metadata": {},
   "source": [
    "## 4. Vector Stores"
   ]
  },
  {
   "cell_type": "code",
   "execution_count": null,
   "id": "a3d89880",
   "metadata": {},
   "outputs": [],
   "source": []
  },
  {
   "cell_type": "markdown",
   "id": "85da1ee7",
   "metadata": {},
   "source": [
    "## 5. Retriving from the Persistant Vector Datastore"
   ]
  },
  {
   "cell_type": "code",
   "execution_count": null,
   "id": "e9fd2322",
   "metadata": {},
   "outputs": [],
   "source": []
  },
  {
   "cell_type": "markdown",
   "id": "d4abf77e",
   "metadata": {},
   "source": [
    "## 6. Retrivers in Langchain"
   ]
  },
  {
   "cell_type": "code",
   "execution_count": null,
   "id": "568bce4f",
   "metadata": {},
   "outputs": [],
   "source": []
  }
 ],
 "metadata": {
  "kernelspec": {
   "display_name": ".venv",
   "language": "python",
   "name": "python3"
  },
  "language_info": {
   "codemirror_mode": {
    "name": "ipython",
    "version": 3
   },
   "file_extension": ".py",
   "mimetype": "text/x-python",
   "name": "python",
   "nbconvert_exporter": "python",
   "pygments_lexer": "ipython3",
   "version": "3.13.7"
  }
 },
 "nbformat": 4,
 "nbformat_minor": 5
}
